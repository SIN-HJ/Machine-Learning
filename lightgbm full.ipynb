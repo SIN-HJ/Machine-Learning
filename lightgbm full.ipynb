{
 "cells": [
  {
   "cell_type": "code",
   "execution_count": null,
   "metadata": {},
   "outputs": [],
   "source": [
    "import pandas as pd\n",
    "# 판다스 모듈 임폴트\n",
    "from sklearn.model_selection import train_test_split\n",
    "# 데이터셋을 train, test 로 분류\n",
    "from sklearn.metrics import accuracy_score\n",
    "# 모델의 정확도 평가\n",
    "from lightgbm import LGBMClassifier\n",
    "# lightGBM 모델 사용\n",
    "from lightgbm import plot_importance\n",
    "# lightGBM 모델 시각화 모듈\n",
    "from matplotlib import font_manager, rc\n",
    "# \n",
    "from eli5.lightgbm import *\n",
    "from eli5.sklearn import *\n",
    "import eli5\n",
    "import matplotlib.pyplot as plt\n",
    "from sklearn.metrics import confusion_matrix\n",
    "# 결과값을 상세히 배열로 볼 수 있게 시각화 \n"
   ]
  },
  {
   "cell_type": "code",
   "execution_count": null,
   "metadata": {},
   "outputs": [],
   "source": [
    "import pandas as pd\n",
    "from sklearn.model_selection import train_test_split\n",
    "# 데이터셋을 train, test 로 분류 \n",
    "from sklearn.linear_model import LogisticRegression\n",
    "#LogisticRegression 모델 사용 \n",
    "from sklearn.metrics import accuracy_score\n",
    "#정확도 평가\n",
    "import statsmodels.api as sm\n",
    "\n",
    "from sklearn.preprocessing import MinMaxScaler\n",
    "#정규화\n",
    "from sklearn.preprocessing import LabelEncoder\n",
    "# 컬럼 인코딩 변경 \n",
    "from lightgbm import LGBMClassifier\n",
    "#light GBM 모델 사용 \n",
    "from lightgbm import plot_importance\n",
    "# light gbm 모델 시각화 모듈 \n",
    "from matplotlib import font_manager, rc\n",
    "# 결과물 출력을 위해 폰트 변경\n",
    "from eli5.lightgbm import *\n",
    "# \n",
    "from eli5.sklearn import *\n",
    "import eli5\n",
    "import matplotlib.pyplot as plt"
   ]
  }
 ],
 "metadata": {
  "kernelspec": {
   "display_name": "Python 3.10.8 64-bit (microsoft store)",
   "language": "python",
   "name": "python3"
  },
  "language_info": {
   "name": "python",
   "version": "3.10.8"
  },
  "orig_nbformat": 4,
  "vscode": {
   "interpreter": {
    "hash": "4ac7aed5790e35ec2760e46ee148510310ce09dee550c51537171c221cc20475"
   }
  }
 },
 "nbformat": 4,
 "nbformat_minor": 2
}
